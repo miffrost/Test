{
 "cells": [
  {
   "cell_type": "markdown",
   "metadata": {},
   "source": [
    "## Interface for the Uusimaa map"
   ]
  },
  {
   "cell_type": "code",
   "execution_count": 1,
   "metadata": {},
   "outputs": [],
   "source": [
    "import ipywidgets as widgets\n",
    "from ipywidgets import interact, interact_manual, IntSlider, interactive\n",
    "import numpy as np\n",
    "import pandas as pd\n",
    "import matplotlib\n",
    "import matplotlib.pyplot as plt\n",
    "matplotlib.use('TkAgg')\n",
    "import numpy as np\n",
    "from matplotlib.backends.backend_tkagg import FigureCanvasTkAgg\n",
    "from matplotlib.figure import Figure\n",
    "import sklearn\n",
    "from sklearn.linear_model import LinearRegression\n",
    "import json\n",
    "from pandas.io.json import json_normalize\n",
    "import math\n",
    "from sympy import geometry\n",
    "from pyproj import Proj, transform\n",
    "import matplotlib.patches as mpatches\n",
    "import os"
   ]
  },
  {
   "cell_type": "code",
   "execution_count": 2,
   "metadata": {},
   "outputs": [
    {
     "name": "stdout",
     "output_type": "stream",
     "text": [
      "2005\n",
      "2006\n",
      "2007\n",
      "2008\n",
      "2009\n",
      "2010\n",
      "2011\n",
      "2012\n",
      "2013\n",
      "2014\n",
      "2015\n",
      "2016\n",
      "2017\n",
      "DATA LOADED\n"
     ]
    }
   ],
   "source": [
    "#Load the data\n",
    "s=['Espoo','Helsinki','Hyvinkää','Järvenpää','Karkkila',\n",
    "          'Kauniainen','Kerava','Kirkkonummi','Lohja','Mäntsälä',\n",
    "          'Nurmijärvi','Pornainen','Sipoo','Siuntio','Tuusula',\n",
    "          'Vantaa','Vihti','Lapinjärvi','Loviisa','Askola',\n",
    "          'Myrskylä','Porvoo','Pukkila','Hanko','Inkoo','Raasepori']\n",
    "years=[2005 + i for i in range(13)]\n",
    "r={}\n",
    "for i in range(13):    \n",
    "    h={}\n",
    "    year=2005+i\n",
    "    print(year)\n",
    "    accident=pd.read_excel('Data/{}/UusimaaAccident.xlsx'.format(year))\n",
    "    data=accident[['accidentId','dead','injr','munidesc']]\n",
    "    level=[3*data['dead'][i] + data['injr'][i] for i in range(len(data))]\n",
    "    data=pd.merge(data,pd.Series(level,name='severlvl'),left_index=True,right_index=True)\n",
    "    for mun in s:\n",
    "        v=dict(data[data['munidesc']==mun]['severlvl'].value_counts())\n",
    "        #Here we set the level of severity for each municipality of Uusimaa.\n",
    "        h[mun]=sum([(i+1)*v[i] for i in v.keys()])/sum(v.values())\n",
    "    r[year]=h\n",
    "values=r\n",
    "print('DATA LOADED')"
   ]
  },
  {
   "cell_type": "code",
   "execution_count": 3,
   "metadata": {},
   "outputs": [
    {
     "name": "stdout",
     "output_type": "stream",
     "text": [
      "MAP DRAWN\n"
     ]
    }
   ],
   "source": [
    "#Uusimaa on the map\n",
    "with open('Data/Uusimaa.txt') as u:\n",
    "    u=open('Data/Uusimaa.txt')\n",
    "    Uusimaa=json.loads(u.read())\n",
    "df=json_normalize(Uusimaa['features'])\n",
    "c=pd.Series(df['geometry.coordinates'].fillna(df['geometry.geometries']),name='Shapes')\n",
    "df=df.join(c)\n",
    "#print(df['properties.name'])\n",
    "df['properties.name'][5]='Hyvinkää'\n",
    "df['properties.name'][7]='Järvenpää'\n",
    "df['properties.name'][12]='Lapinjärvi'\n",
    "df['properties.name'][14]='Myrskylä'\n",
    "df['properties.name'][15]='Mäntsälä'\n",
    "df['properties.name'][16]='Nurmijärvi'\n",
    "#print(df['properties.name'])\n",
    "#k=0\n",
    "#inProj = Proj(init='epsg:4258')\n",
    "#outProj = Proj(init='epsg:3067')\n",
    "print('MAP DRAWN')"
   ]
  },
  {
   "cell_type": "code",
   "execution_count": 4,
   "metadata": {},
   "outputs": [],
   "source": [
    "def plot(year):\n",
    "    matplotlib.rcParams['figure.figsize'] = [12.8, 7.2]\n",
    "    mun=[]\n",
    "    clist=['cyan','deepskyblue','dodgerblue','royalblue','blue','darkblue']\n",
    "    heat=values[year]\n",
    "    c='white'\n",
    "    for i in range(len(df)):\n",
    "        t=df['Shapes'][i]\n",
    "        mun.append(df['properties.name'][i])\n",
    "        if heat[df['properties.name'][i]]<=1:\n",
    "            c=clist[0]\n",
    "        if (heat[df['properties.name'][i]]>1) & (heat[df['properties.name'][i]]<=1.25) :\n",
    "            c=clist[1]\n",
    "        if (heat[df['properties.name'][i]]>1.25) & (heat[df['properties.name'][i]]<=1.50) :\n",
    "            c=clist[2]\n",
    "        if (heat[df['properties.name'][i]]>1.50) & (heat[df['properties.name'][i]]<=1.75) :\n",
    "            c=clist[3]\n",
    "        if (heat[df['properties.name'][i]]>1.75) & (heat[df['properties.name'][i]]<=2.00) :\n",
    "            c=clist[4]\n",
    "        if heat[df['properties.name'][i]]>2.0:\n",
    "            c=clist[5]\n",
    "            \n",
    "        if len(t)==1:\n",
    "            x=[t[0][l][0] for l in range(len(t[0]))]\n",
    "            y=[t[0][l][1] for l in range(len(t[0]))]\n",
    "    #        x,y=transform(inProj,outProj,x,y)\n",
    "            plt.fill(x,y,c)\n",
    "            plt.plot(x,y,c='k',linewidth=0.5)\n",
    "                \n",
    "                \n",
    "        else:\n",
    "            for s in t:\n",
    "                x=[s['coordinates'][0][l][0] for l in range(len(s['coordinates'][0]))]\n",
    "                y=[s['coordinates'][0][l][1] for l in range(len(s['coordinates'][0]))]\n",
    "                #x,y=transform(inProj,outProj,x,y)\n",
    "                plt.fill(x,y,c)\n",
    "                plt.plot(x,y,c='k',linewidth=0.5)\n",
    "                p1=mpatches.Patch(color=clist[0], label='<=1.0')\n",
    "                p2=mpatches.Patch(color=clist[1], label='1.01-1.25')\n",
    "                p3=mpatches.Patch(color=clist[2], label='1.26-1.50')\n",
    "                p4=mpatches.Patch(color=clist[3], label='1.51-1.75')\n",
    "                p5=mpatches.Patch(color=clist[4], label='1.76-2.00')\n",
    "                p6=mpatches.Patch(color=clist[5], label='>2.0')\n",
    "    patches=[p1,p2,p3,p4,p5,p6]\n",
    "    plt.legend(bbox_to_anchor=(1.05,1.00),handles=patches)\n",
    "    plt.title('Relative severity of traffic accidents in the municipalities of Uusimaa during the year {}'.format(year))"
   ]
  },
  {
   "cell_type": "code",
   "execution_count": 5,
   "metadata": {},
   "outputs": [
    {
     "name": "stdout",
     "output_type": "stream",
     "text": [
      "SELECT THE YEAR\n"
     ]
    },
    {
     "data": {
      "application/vnd.jupyter.widget-view+json": {
       "model_id": "e5aa7daaf4064acd830afb7d63d02c03",
       "version_major": 2,
       "version_minor": 0
      },
      "text/plain": [
       "interactive(children=(IntSlider(value=2005, description='year', max=2017, min=2005), Button(description='Run I…"
      ]
     },
     "metadata": {},
     "output_type": "display_data"
    },
    {
     "data": {
      "text/plain": [
       "<function __main__.plot(year)>"
      ]
     },
     "execution_count": 5,
     "metadata": {},
     "output_type": "execute_result"
    }
   ],
   "source": [
    "print('SELECT THE YEAR')\n",
    "interact_manual(plot,year=IntSlider(min=2005, max=2017, step=1))"
   ]
  },
  {
   "cell_type": "code",
   "execution_count": 6,
   "metadata": {},
   "outputs": [
    {
     "name": "stderr",
     "output_type": "stream",
     "text": [
      "[NbConvertApp] Converting notebook heatInter2.ipynb to html\n",
      "[NbConvertApp] Writing 303597 bytes to heatInter2.html\n"
     ]
    }
   ],
   "source": [
    "#!jupyter nbconvert --to html heatInter2.ipynb"
   ]
  }
 ],
 "metadata": {
  "kernelspec": {
   "display_name": "Python 3",
   "language": "python",
   "name": "python3"
  },
  "language_info": {
   "codemirror_mode": {
    "name": "ipython",
    "version": 3
   },
   "file_extension": ".py",
   "mimetype": "text/x-python",
   "name": "python",
   "nbconvert_exporter": "python",
   "pygments_lexer": "ipython3",
   "version": "3.7.3"
  }
 },
 "nbformat": 4,
 "nbformat_minor": 2
}
